{
 "cells": [
  {
   "cell_type": "markdown",
   "metadata": {},
   "source": [
    "# Iterating over for loop\n",
    "# Reference: https://www.youtube.com/watch?v=VBokjWj_cEA "
   ]
  },
  {
   "cell_type": "code",
   "execution_count": 5,
   "metadata": {},
   "outputs": [
    {
     "name": "stdout",
     "output_type": "stream",
     "text": [
      "0 Tanuku\n",
      "1 Muddapuram\n",
      "2 Tadepalligudem\n",
      "3 Duvva\n",
      "0 Tanuku\n",
      "1 Muddapuram\n",
      "2 Tadepalligudem\n",
      "3 Duvva\n"
     ]
    }
   ],
   "source": [
    "cities = ['Tanuku', 'Muddapuram', 'Tadepalligudem', 'Duvva']\n",
    "# Bad way\n",
    "i=0\n",
    "for city in cities:\n",
    "    print(i, city)\n",
    "    i +=1\n",
    "\n",
    "# Good way\n",
    "for i,city in enumerate(cities):\n",
    "    print(i, city)"
   ]
  },
  {
   "cell_type": "code",
   "execution_count": 10,
   "metadata": {},
   "outputs": [
    {
     "name": "stdout",
     "output_type": "stream",
     "text": [
      "1 2\n",
      "2 4\n",
      "3 6\n",
      "1 2\n",
      "2 4\n",
      "3 6\n"
     ]
    }
   ],
   "source": [
    "x_list = [1,2,3]\n",
    "y_list = [2,4,6]\n",
    "# The bad way\n",
    "for i in range(len(x_list)):\n",
    "    x = x_list[i];\n",
    "    y = y_list[i];\n",
    "    print(x,y)\n",
    "\n",
    "# The good way\n",
    "for x, y  in zip(x_list, y_list):\n",
    "    print(x,y)"
   ]
  },
  {
   "cell_type": "markdown",
   "metadata": {},
   "source": [
    "#Swap varialbles"
   ]
  },
  {
   "cell_type": "code",
   "execution_count": 14,
   "metadata": {},
   "outputs": [
    {
     "name": "stdout",
     "output_type": "stream",
     "text": [
      "10 -10\n",
      "10 -10\n"
     ]
    }
   ],
   "source": [
    "a=-10\n",
    "b=10\n",
    "#The bad way\n",
    "temp = b\n",
    "b = a\n",
    "a = temp\n",
    "print(a, b)\n",
    "\n",
    "#The good way\n",
    "a=-10;b=10\n",
    "a, b = b,a\n",
    "print(a,b)\n"
   ]
  },
  {
   "cell_type": "markdown",
   "metadata": {},
   "source": [
    "#Dictionaries"
   ]
  },
  {
   "cell_type": "code",
   "execution_count": 22,
   "metadata": {},
   "outputs": [
    {
     "name": "stdout",
     "output_type": "stream",
     "text": [
      "mn age is 35\n",
      "mn age is 35\n"
     ]
    }
   ],
   "source": [
    "ages = {\n",
    "    'mak': 30,\n",
    "    'ms' : 55,\n",
    "    'mvs' : 58,\n",
    "    'mn' : 35\n",
    "}\n",
    "\n",
    "#The bad way\n",
    "if('mn' in ages):\n",
    "    print('mn age is', ages['mn'])\n",
    "else:\n",
    "    print('mn age is unknown');\n",
    "\n",
    "#The good way\n",
    "print('mn age is',ages.get('mn', 'unknwon'))"
   ]
  },
  {
   "cell_type": "markdown",
   "metadata": {},
   "source": [
    "#For loops"
   ]
  },
  {
   "cell_type": "code",
   "execution_count": 29,
   "metadata": {},
   "outputs": [
    {
     "name": "stdout",
     "output_type": "stream",
     "text": [
      "found\n",
      "found\n"
     ]
    }
   ],
   "source": [
    "needle = 'd'\n",
    "haystack = ['a','b', 'c','d']\n",
    "#The bad way\n",
    "found = False\n",
    "for letter in haystack:\n",
    "    if(letter == needle):\n",
    "        print('found')\n",
    "        found = True;\n",
    "        break;\n",
    "if(not found):\n",
    "    print('not found')\n",
    "\n",
    "#The good way \n",
    "for letter in haystack:\n",
    "    if(letter == needle):\n",
    "        print('found');\n",
    "        break;\n",
    "else: #If no break occured\n",
    "    print('not found')"
   ]
  },
  {
   "cell_type": "markdown",
   "metadata": {},
   "source": [
    "# File Reading"
   ]
  },
  {
   "cell_type": "code",
   "execution_count": 35,
   "metadata": {},
   "outputs": [
    {
     "name": "stdout",
     "output_type": "stream",
     "text": [
      "hello\n",
      "how are you doing\n",
      "good bye\n",
      ":-)\n",
      "--------------------------\n",
      "hello\n",
      "\n",
      "how are you doing\n",
      "\n",
      "good bye\n",
      "\n",
      ":-)\n",
      "--------------------------\n",
      "hello\n",
      "\n",
      "how are you doing\n",
      "\n",
      "good bye\n",
      "\n",
      ":-)\n"
     ]
    }
   ],
   "source": [
    "#The bad way\n",
    "f = open('file_reading_test.txt')\n",
    "text = f.read();\n",
    "for line in text.split('\\n'):\n",
    "    print(line)\n",
    "f.close();\n",
    "print('--------------------------')\n",
    "#The better way\n",
    "f=open('file_reading_test.txt')\n",
    "for line in f:\n",
    "    print(line)\n",
    "f.close()\n",
    "print('--------------------------')\n",
    "#The best way\n",
    "with open('file_reading_test.txt') as f:\n",
    "    for line in f:\n",
    "        print(line)"
   ]
  },
  {
   "cell_type": "markdown",
   "metadata": {},
   "source": [
    "#Exception Hnadling"
   ]
  },
  {
   "cell_type": "code",
   "execution_count": 37,
   "metadata": {},
   "outputs": [
    {
     "name": "stdout",
     "output_type": "stream",
     "text": [
      "converting\n",
      "converstion is not successful\n",
      "clean if any\n"
     ]
    }
   ],
   "source": [
    "print('converting')\n",
    "try:\n",
    "    print(int('x'))\n",
    "except:\n",
    "    print('converstion is not successful')\n",
    "else:\n",
    "    print('conversion is successful')\n",
    "finally:\n",
    "    print('clean if any')"
   ]
  }
 ],
 "metadata": {
  "kernelspec": {
   "display_name": "Python 3",
   "language": "python",
   "name": "python3"
  },
  "language_info": {
   "codemirror_mode": {
    "name": "ipython",
    "version": 3
   },
   "file_extension": ".py",
   "mimetype": "text/x-python",
   "name": "python",
   "nbconvert_exporter": "python",
   "pygments_lexer": "ipython3",
   "version": "3.6.4"
  }
 },
 "nbformat": 4,
 "nbformat_minor": 2
}
